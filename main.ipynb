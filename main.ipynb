{
 "cells": [
  {
   "cell_type": "code",
   "execution_count": 11,
   "metadata": {},
   "outputs": [],
   "source": [
    "import pandas as pd "
   ]
  },
  {
   "cell_type": "code",
   "execution_count": 12,
   "metadata": {},
   "outputs": [
    {
     "name": "stdout",
     "output_type": "stream",
     "text": [
      "       age         workclass  fnlwgt   education  education-num  \\\n",
      "0       39         State-gov   77516   Bachelors             13   \n",
      "1       50  Self-emp-not-inc   83311   Bachelors             13   \n",
      "2       38           Private  215646     HS-grad              9   \n",
      "3       53           Private  234721        11th              7   \n",
      "4       28           Private  338409   Bachelors             13   \n",
      "...    ...               ...     ...         ...            ...   \n",
      "32556   27           Private  257302  Assoc-acdm             12   \n",
      "32557   40           Private  154374     HS-grad              9   \n",
      "32558   58           Private  151910     HS-grad              9   \n",
      "32559   22           Private  201490     HS-grad              9   \n",
      "32560   52      Self-emp-inc  287927     HS-grad              9   \n",
      "\n",
      "           marital-status         occupation   relationship   race     sex  \\\n",
      "0           Never-married       Adm-clerical  Not-in-family  White    Male   \n",
      "1      Married-civ-spouse    Exec-managerial        Husband  White    Male   \n",
      "2                Divorced  Handlers-cleaners  Not-in-family  White    Male   \n",
      "3      Married-civ-spouse  Handlers-cleaners        Husband  Black    Male   \n",
      "4      Married-civ-spouse     Prof-specialty           Wife  Black  Female   \n",
      "...                   ...                ...            ...    ...     ...   \n",
      "32556  Married-civ-spouse       Tech-support           Wife  White  Female   \n",
      "32557  Married-civ-spouse  Machine-op-inspct        Husband  White    Male   \n",
      "32558             Widowed       Adm-clerical      Unmarried  White  Female   \n",
      "32559       Never-married       Adm-clerical      Own-child  White    Male   \n",
      "32560  Married-civ-spouse    Exec-managerial           Wife  White  Female   \n",
      "\n",
      "       capital-gain  capital-loss  hours-per-week native-country salary  \n",
      "0              2174             0              40  United-States  <=50K  \n",
      "1                 0             0              13  United-States  <=50K  \n",
      "2                 0             0              40  United-States  <=50K  \n",
      "3                 0             0              40  United-States  <=50K  \n",
      "4                 0             0              40           Cuba  <=50K  \n",
      "...             ...           ...             ...            ...    ...  \n",
      "32556             0             0              38  United-States  <=50K  \n",
      "32557             0             0              40  United-States   >50K  \n",
      "32558             0             0              40  United-States  <=50K  \n",
      "32559             0             0              20  United-States  <=50K  \n",
      "32560         15024             0              40  United-States   >50K  \n",
      "\n",
      "[32561 rows x 15 columns]\n"
     ]
    }
   ],
   "source": [
    "df = pd.read_csv('adult.data.csv')\n",
    "print(df)"
   ]
  },
  {
   "cell_type": "code",
   "execution_count": 13,
   "metadata": {},
   "outputs": [
    {
     "name": "stdout",
     "output_type": "stream",
     "text": [
      "race\n",
      "White                 27816\n",
      "Black                  3124\n",
      "Asian-Pac-Islander     1039\n",
      "Amer-Indian-Eskimo      311\n",
      "Other                   271\n",
      "Name: count, dtype: int64\n"
     ]
    }
   ],
   "source": [
    "## Race count \n",
    "race_count = df['race'].value_counts()\n",
    "print(race_count)"
   ]
  },
  {
   "cell_type": "code",
   "execution_count": 15,
   "metadata": {},
   "outputs": [
    {
     "name": "stdout",
     "output_type": "stream",
     "text": [
      "       age         workclass  fnlwgt     education  education-num  \\\n",
      "0       39         State-gov   77516     Bachelors             13   \n",
      "1       50  Self-emp-not-inc   83311     Bachelors             13   \n",
      "2       38           Private  215646       HS-grad              9   \n",
      "3       53           Private  234721          11th              7   \n",
      "7       52  Self-emp-not-inc  209642       HS-grad              9   \n",
      "...    ...               ...     ...           ...            ...   \n",
      "32553   32           Private  116138       Masters             14   \n",
      "32554   53           Private  321865       Masters             14   \n",
      "32555   22           Private  310152  Some-college             10   \n",
      "32557   40           Private  154374       HS-grad              9   \n",
      "32559   22           Private  201490       HS-grad              9   \n",
      "\n",
      "           marital-status         occupation   relationship  \\\n",
      "0           Never-married       Adm-clerical  Not-in-family   \n",
      "1      Married-civ-spouse    Exec-managerial        Husband   \n",
      "2                Divorced  Handlers-cleaners  Not-in-family   \n",
      "3      Married-civ-spouse  Handlers-cleaners        Husband   \n",
      "7      Married-civ-spouse    Exec-managerial        Husband   \n",
      "...                   ...                ...            ...   \n",
      "32553       Never-married       Tech-support  Not-in-family   \n",
      "32554  Married-civ-spouse    Exec-managerial        Husband   \n",
      "32555       Never-married    Protective-serv  Not-in-family   \n",
      "32557  Married-civ-spouse  Machine-op-inspct        Husband   \n",
      "32559       Never-married       Adm-clerical      Own-child   \n",
      "\n",
      "                     race   sex  capital-gain  capital-loss  hours-per-week  \\\n",
      "0                   White  Male          2174             0              40   \n",
      "1                   White  Male             0             0              13   \n",
      "2                   White  Male             0             0              40   \n",
      "3                   Black  Male             0             0              40   \n",
      "7                   White  Male             0             0              45   \n",
      "...                   ...   ...           ...           ...             ...   \n",
      "32553  Asian-Pac-Islander  Male             0             0              11   \n",
      "32554               White  Male             0             0              40   \n",
      "32555               White  Male             0             0              40   \n",
      "32557               White  Male             0             0              40   \n",
      "32559               White  Male             0             0              20   \n",
      "\n",
      "      native-country salary  \n",
      "0      United-States  <=50K  \n",
      "1      United-States  <=50K  \n",
      "2      United-States  <=50K  \n",
      "3      United-States  <=50K  \n",
      "7      United-States   >50K  \n",
      "...              ...    ...  \n",
      "32553         Taiwan  <=50K  \n",
      "32554  United-States   >50K  \n",
      "32555  United-States  <=50K  \n",
      "32557  United-States   >50K  \n",
      "32559  United-States  <=50K  \n",
      "\n",
      "[21790 rows x 15 columns]\n"
     ]
    }
   ],
   "source": [
    "## avaerage aga of men\n",
    "avaerage_age_men = df[df[\"sex\"] == \"Male\"]\n",
    "avaerage_age_men.mean()\n"
   ]
  },
  {
   "cell_type": "code",
   "execution_count": null,
   "metadata": {},
   "outputs": [],
   "source": []
  }
 ],
 "metadata": {
  "kernelspec": {
   "display_name": "Python 3",
   "language": "python",
   "name": "python3"
  },
  "language_info": {
   "codemirror_mode": {
    "name": "ipython",
    "version": 3
   },
   "file_extension": ".py",
   "mimetype": "text/x-python",
   "name": "python",
   "nbconvert_exporter": "python",
   "pygments_lexer": "ipython3",
   "version": "3.10.0"
  }
 },
 "nbformat": 4,
 "nbformat_minor": 2
}
